{
 "cells": [
  {
   "cell_type": "markdown",
   "metadata": {},
   "source": [
    "# CSI4124 A1 EDA\n",
    "\n",
    "**Group 18**\n",
    "\n",
    "**Student Name: Yu-Chen Lee**\n",
    "\n",
    "**Student ID: 300240688**\n",
    "\n",
    "**Student Name: Kevin Yu** \n",
    "\n",
    "**Student ID:**"
   ]
  },
  {
   "cell_type": "markdown",
   "metadata": {},
   "source": [
    "# Introduction\n",
    "\n",
    "This report aims to analyze two different domain's datasets: the *German Credit Risk* and the *Animal Analyzing* dataset. \n",
    "Each dataset presents unique challenges and opportunities \n",
    "for data-driven insights, and the goal is to explore, visualize, and derive actionable conclusions from the data.\n",
    "\n",
    "The objective of the analyze the German Credit Risk is to assess the factors influencing credit risk among indivduals. By examininf features like age, credit history, loan amount, we aim to explore the possible reason and find out the potiental people may have a credit risk. Such an analysis can assist financial institutions in making data-driven lending decisions, improving risk management, and enhancing customer profiling. The audience for this analyze could be decision makers in finanical areas, such as risk managers, and policymakers interested in understanding credit behavior and optimizing risk assessment strategies. \n",
    "\n",
    "This Animal Analyze dataset is analyzed to understand animal behavior, characteristics, and classification patterns. The goal is to identify trends, group animals by shared features, and derive insights into their behaviors or ecological roles. This analysis may involve clustering or classification tasks depending on the dataset structure and the research questions. The audience for this analyze could be academics, ecologists, zoologists, and data scientists focused on biological and ecological studies who can leverage the insights for research, conservation planning, or educational purposes. "
   ]
  },
  {
   "cell_type": "markdown",
   "metadata": {},
   "source": [
    "## Loading dataset 1 and dataset 2"
   ]
  },
  {
   "cell_type": "code",
   "execution_count": 1,
   "metadata": {},
   "outputs": [],
   "source": [
    "import pandas as pd"
   ]
  },
  {
   "cell_type": "code",
   "execution_count": 2,
   "metadata": {},
   "outputs": [],
   "source": [
    "dataset1_url = 'https://raw.githubusercontent.com/rennylee/EDA/refs/heads/main/german_credit_data.csv'\n",
    "dataset2_url = 'https://raw.githubusercontent.com/rennylee/EDA/refs/heads/main/animals_info.csv'\n",
    "\n",
    "ds1 = pd.read_csv(dataset1_url)\n",
    "ds2 = pd.read_csv(dataset2_url)"
   ]
  },
  {
   "cell_type": "markdown",
   "metadata": {},
   "source": [
    "# Dataset Description\n",
    "\n",
    "## Dataset 1: German Credit Risk\n",
    "Author: Prof. Hofmann\n",
    "\n",
    "Purpose: To evaluate and predict the creditworthiness of individuals based on various personal and financial attributes. It is used to develop classification models that can classify applicants into two categories: good credit risk and bad credit risk.\n",
    "\n",
    "Shape: 10 colums * 1000 rows\n",
    "\n",
    "Features: The dataset contains five categorical data: Sex, Housing, Saving account, Checking account, Purpose. And for the numerical data: The number of the clients, Age, Job, Credit amount, Duration. The Job data uses numeric representation: 0 - unskilled and non-resident, 1 - unskilled and resident, 2 - skilled, 3 - highly skilled. The saving and checking account use litte, moderate, quite rich, and rich as a text to represent the level of money they own. Purpose data in text to show the purpose of client using money.\n",
    "\n",
    "\n",
    "\n",
    "## Dataset 2: Animal Analyzing \n",
    "Author: willian oliveira gibin\n",
    "\n",
    "Purpose: Analyzing animals serves a wide range of purposes, from understanding their behaviors and interactions within ecosystems to contributing to conservation efforts for endangered species. By studying animal roles in biodiversity and predator-prey dynamics, researchers can help maintain ecological balance and develop strategies for preserving habitats. \n",
    "\n",
    "Shape: 9 colums * 29358 rows\n",
    "\n",
    "Features: The dataset has all categorial data which contains different living environment of different animals. \n",
    " \n"
   ]
  }
 ],
 "metadata": {
  "kernelspec": {
   "display_name": "Python 3",
   "language": "python",
   "name": "python3"
  },
  "language_info": {
   "codemirror_mode": {
    "name": "ipython",
    "version": 3
   },
   "file_extension": ".py",
   "mimetype": "text/x-python",
   "name": "python",
   "nbconvert_exporter": "python",
   "pygments_lexer": "ipython3",
   "version": "3.12.3"
  }
 },
 "nbformat": 4,
 "nbformat_minor": 2
}
