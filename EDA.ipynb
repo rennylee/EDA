{
 "cells": [
  {
   "cell_type": "markdown",
   "metadata": {},
   "source": [
    "### CSI4124 A1 EDA\n",
    "\n",
    "**Group 18**\n",
    "\n",
    "**Student Name: Yu-Chen Lee**\n",
    "\n",
    "**Student ID: 300240688**\n",
    "\n",
    "**Student Name: Kevin Yu** \n",
    "\n",
    "**Student ID:**"
   ]
  },
  {
   "cell_type": "markdown",
   "metadata": {},
   "source": [
    "### Introduction\n",
    "\n"
   ]
  },
  {
   "cell_type": "markdown",
   "metadata": {},
   "source": [
    "## Loading dataset 1 and dataset 2"
   ]
  },
  {
   "cell_type": "code",
   "execution_count": 1,
   "metadata": {},
   "outputs": [],
   "source": [
    "import pandas as pd"
   ]
  },
  {
   "cell_type": "code",
   "execution_count": 2,
   "metadata": {},
   "outputs": [],
   "source": [
    "dataset1_url = 'https://raw.githubusercontent.com/rennylee/EDA/refs/heads/main/german_credit_data.csv'\n",
    "dataset2_url = 'https://raw.githubusercontent.com/rennylee/EDA/refs/heads/main/animals_info.csv'\n",
    "\n",
    "ds1 = pd.read_csv(dataset1_url)\n",
    "ds2 = pd.read_csv(dataset2_url)"
   ]
  },
  {
   "cell_type": "code",
   "execution_count": null,
   "metadata": {},
   "outputs": [],
   "source": []
  }
 ],
 "metadata": {
  "kernelspec": {
   "display_name": "Python 3",
   "language": "python",
   "name": "python3"
  },
  "language_info": {
   "codemirror_mode": {
    "name": "ipython",
    "version": 3
   },
   "file_extension": ".py",
   "mimetype": "text/x-python",
   "name": "python",
   "nbconvert_exporter": "python",
   "pygments_lexer": "ipython3",
   "version": "3.12.3"
  }
 },
 "nbformat": 4,
 "nbformat_minor": 2
}
